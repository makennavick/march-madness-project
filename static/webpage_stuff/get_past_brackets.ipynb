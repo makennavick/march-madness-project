{
 "cells": [
  {
   "cell_type": "code",
   "execution_count": 2,
   "metadata": {},
   "outputs": [],
   "source": [
    "# imports\n",
    "from splinter import Browser\n",
    "from bs4 import BeautifulSoup\n",
    "import json"
   ]
  },
  {
   "cell_type": "markdown",
   "metadata": {},
   "source": [
    "## visit website & parse html"
   ]
  },
  {
   "cell_type": "markdown",
   "metadata": {},
   "source": [
    "use this cell if you've already pulled the html and want to avoid relaunching live server"
   ]
  },
  {
   "cell_type": "code",
   "execution_count": null,
   "metadata": {},
   "outputs": [],
   "source": [
    "with open('ncaa_html.html', 'r') as file:\n",
    "    html = file.read()\n",
    "    soup = BeautifulSoup(html, 'html.parser')"
   ]
  },
  {
   "cell_type": "markdown",
   "metadata": {},
   "source": [
    "otherwise, run the following: "
   ]
  },
  {
   "cell_type": "code",
   "execution_count": 16,
   "metadata": {},
   "outputs": [],
   "source": [
    "# launch browser\n",
    "browser = Browser(\"chrome\")"
   ]
  },
  {
   "cell_type": "code",
   "execution_count": 17,
   "metadata": {},
   "outputs": [],
   "source": [
    "# visit webpage\n",
    "url = 'https://www.ncaa.com/basketball-men/d1/every-ncaa-bracket-1939-today-tournament-stats-records'\n",
    "browser.visit(url)"
   ]
  },
  {
   "cell_type": "code",
   "execution_count": null,
   "metadata": {},
   "outputs": [],
   "source": [
    "# read html\n",
    "html = browser.html\n",
    "soup = BeautifulSoup(html, 'html.parser')"
   ]
  },
  {
   "cell_type": "code",
   "execution_count": 34,
   "metadata": {},
   "outputs": [],
   "source": [
    "# save html as txt file in case we have to reference it again - won't have to launch liveserver\n",
    "with open('ncaa_html.html', 'w') as file:\n",
    "    file.write(html)"
   ]
  },
  {
   "cell_type": "markdown",
   "metadata": {},
   "source": [
    "## scrape images"
   ]
  },
  {
   "cell_type": "code",
   "execution_count": 44,
   "metadata": {},
   "outputs": [],
   "source": [
    "# identify all images in the main feed\n",
    "imgs = soup.select_one(\"#posts\").find_all('div', class_=['paragraph-image', 'paragraph-media-image']) # both classes are the same thing, some little shit just decided to give it two different class names\n",
    "\n",
    "# grab image links and save in a list\n",
    "img_urls = []\n",
    "for img in imgs:\n",
    "    url = img.find('img')[\"src\"]\n",
    "    img_urls.append(url)"
   ]
  },
  {
   "cell_type": "code",
   "execution_count": 47,
   "metadata": {},
   "outputs": [
    {
     "data": {
      "text/plain": [
       "85"
      ]
     },
     "execution_count": 47,
     "metadata": {},
     "output_type": "execute_result"
    }
   ],
   "source": [
    "# confirm there's 85 images (85 years of tourney)\n",
    "len(img_urls)"
   ]
  },
  {
   "cell_type": "code",
   "execution_count": 48,
   "metadata": {},
   "outputs": [],
   "source": [
    "# create empty dict to hold year-image pairs\n",
    "img_dict = {}\n",
    "\n",
    "# first index in img_urls\n",
    "link = 0\n",
    "\n",
    "# loop backwards through years, grab its url, and add the pair to img_dict\n",
    "for year in reversed(range(1939,2025)):\n",
    "    # if 2020, skip to next iteration\n",
    "    if year==2020:\n",
    "        img_dict[year] = \"https://npr.brightspotcdn.com/dims3/default/strip/false/crop/4000x2250+0+0/resize/4000x2250!/?url=http%3A%2F%2Fnpr-brightspot.s3.amazonaws.com%2Ffa%2F7b%2F06949dc44cec9aa85889b2f91268%2F23311.tif\"\n",
    "        continue\n",
    "    try:\n",
    "        # add key-value pair to dict\n",
    "        img_dict[year] = img_urls[link]\n",
    "\n",
    "        # continue through link list\n",
    "        link += 1\n",
    "    except:\n",
    "        print(f'still struggling')\n"
   ]
  },
  {
   "cell_type": "markdown",
   "metadata": {},
   "source": [
    "## export dictionary"
   ]
  },
  {
   "cell_type": "code",
   "execution_count": 49,
   "metadata": {},
   "outputs": [
    {
     "data": {
      "text/plain": [
       "'{\"2024\": \"https://www.ncaa.com/_flysystem/public-s3/styles/original/public-s3/images/2024/04/11/CollegeBasketball2024Bracket.png?itok=7Jb8MNtP\", \"2023\": \"https://www.ncaa.com/_flysystem/public-s3/styles/original/public-s3/images/2024-03-01/2023%20NCAA%20tournament%20bracket.png?itok=SSvuZ-Cq\", \"2022\": \"https://www.ncaa.com/_flysystem/public-s3/styles/original/public-s3/images/2024-03-01/2022%20NCAA%20tournament%20bracket.jpg?itok=FKHPVdiQ\", \"2021\": \"https://www.ncaa.com/_flysystem/public-s3/styles/original/public-s3/images/2024-03-01/2021%20NCAA%20tournament%20bracket.jpg?itok=PtS_eWiM\", \"2020\": \"https://npr.brightspotcdn.com/dims3/default/strip/false/crop/4000x2250+0+0/resize/4000x2250!/?url=http%3A%2F%2Fnpr-brightspot.s3.amazonaws.com%2Ffa%2F7b%2F06949dc44cec9aa85889b2f91268%2F23311.tif\", \"2019\": \"https://www.ncaa.com/_flysystem/public-s3/styles/original/public-s3/images/2020/05/22/NCAA-tournament-bracket-2019.jpg?itok=TqwyVkOV\", \"2018\": \"https://www.ncaa.com/_flysystem/public-s3/styles/original/public-s3/images/2020/05/22/NCAA-tournament-2018-bracket_1.jpg?itok=DThpUjaU\", \"2017\": \"https://www.ncaa.com/_flysystem/public-s3/styles/original/public-s3/images/2020/05/22/NCAA-tournament-bracket-2017.jpg?itok=-5UXMvQu\", \"2016\": \"https://www.ncaa.com/_flysystem/public-s3/styles/original/public-s3/images/2020/05/22/NCAA-tournament-bracket-2016.jpg?itok=2jIx-_iD\", \"2015\": \"https://www.ncaa.com/_flysystem/public-s3/styles/original/public-s3/images/2020/05/28/NCAA-tournament-bracket-2015_0.jpg?itok=0Qhb17Yy\", \"2014\": \"https://www.ncaa.com/_flysystem/public-s3/styles/original/public-s3/images/2020/05/28/NCAA-tournament-bracket-2014.jpg?itok=mkiP-fV_\", \"2013\": \"https://www.ncaa.com/_flysystem/public-s3/styles/original/public-s3/images/2020/05/28/NCAA-tournament-bracket-2013.jpg?itok=7B6IUi3f\", \"2012\": \"https://www.ncaa.com/_flysystem/public-s3/styles/original/public-s3/images/2020/05/28/NCAA-tournament-bracket-2012.jpg?itok=ezwC0l4S\", \"2011\": \"https://www.ncaa.com/_flysystem/public-s3/styles/original/public-s3/images/2020/05/28/NCAA-tournament-bracket-2011.png?itok=INUePzNJ\", \"2010\": \"https://www.ncaa.com/_flysystem/public-s3/styles/original/public-s3/images/2020/05/28/NCAA-tournament-bracket-2010.jpg?itok=NzM_BgJq\", \"2009\": \"https://www.ncaa.com/_flysystem/public-s3/styles/original/public-s3/images/2020/05/28/NCAA-tournament-bracket-2009.jpg?itok=z9ot-hA0\", \"2008\": \"https://www.ncaa.com/_flysystem/public-s3/styles/original/public-s3/images/2020/05/28/NCAA-tournament-bracket-2008.jpg?itok=ZmHXqeL7\", \"2007\": \"https://www.ncaa.com/_flysystem/public-s3/styles/original/public-s3/images/2020/05/28/NCAA-tournament-bracket-2007.jpg?itok=tuXEgC3j\", \"2006\": \"https://www.ncaa.com/_flysystem/public-s3/styles/original/public-s3/images/2020/05/28/NCAA-tournament-bracket-2006.jpg?itok=rOCYxPo4\", \"2005\": \"https://www.ncaa.com/_flysystem/public-s3/styles/original/public-s3/images/2020/05/28/NCAA-tournament-bracket-2005.jpg?itok=vFiTohVP\", \"2004\": \"https://www.ncaa.com/_flysystem/public-s3/styles/original/public-s3/images/2020/05/28/NCAA-tournament-bracket-2004.jpg?itok=7wA8rYlQ\", \"2003\": \"https://www.ncaa.com/_flysystem/public-s3/styles/original/public-s3/images/2020/05/28/NCAA-tournament-bracket-2003.jpg?itok=QbfewUGU\", \"2002\": \"https://www.ncaa.com/_flysystem/public-s3/styles/original/public-s3/images/2020/05/29/NCAA-tournament-bracket-2002.jpg?itok=YmNKj-hJ\", \"2001\": \"https://www.ncaa.com/_flysystem/public-s3/styles/original/public-s3/images/2020/05/29/NCAA-tournament-bracket-2001.jpg?itok=u66CurRy\", \"2000\": \"https://www.ncaa.com/_flysystem/public-s3/styles/original/public-s3/images/2020/05/29/NCAA-tournament-bracket-2000_0.jpg?itok=1Q8IijRO\", \"1999\": \"https://www.ncaa.com/_flysystem/public-s3/styles/original/public-s3/images/2020/05/29/NCAA-tournament-bracket-1999.jpg?itok=eqHLTKpt\", \"1998\": \"https://www.ncaa.com/_flysystem/public-s3/styles/original/public-s3/images/2020/05/29/NCAA-tournament-bracket-1998.jpg?itok=Cr06kvxQ\", \"1997\": \"https://www.ncaa.com/_flysystem/public-s3/styles/original/public-s3/images/2020/05/29/NCAA-tournament-bracket-1997.jpg?itok=3Gvd6M8v\", \"1996\": \"https://www.ncaa.com/_flysystem/public-s3/styles/original/public-s3/images/2020/05/29/NCAA-tournament-bracket-1996.jpg?itok=CfvWpAr2\", \"1995\": \"https://www.ncaa.com/_flysystem/public-s3/styles/original/public-s3/images/2020/05/29/NCAA-tournament-bracket-1995_0.jpg?itok=KQ4byUy_\", \"1994\": \"https://www.ncaa.com/_flysystem/public-s3/styles/original/public-s3/images/2020/05/29/NCAA-tournament-bracket-1994.jpg?itok=0Td8Lw3X\", \"1993\": \"https://www.ncaa.com/_flysystem/public-s3/styles/original/public-s3/images/2020/05/29/NCAA-tournament-bracket-1993.jpg?itok=41fjhHV9\", \"1992\": \"https://www.ncaa.com/_flysystem/public-s3/styles/original/public-s3/images/2020/05/29/NCAA-tournament-bracket-1992.jpg?itok=9VuTpcLa\", \"1991\": \"https://www.ncaa.com/_flysystem/public-s3/styles/original/public-s3/images/2020/05/29/NCAA-tournament-bracket-1991.jpg?itok=eXaC9CyA\", \"1990\": \"https://www.ncaa.com/_flysystem/public-s3/styles/original/public-s3/images/2020/05/29/NCAA-tournament-bracket-1990.jpg?itok=01UC1TCN\", \"1989\": \"https://www.ncaa.com/_flysystem/public-s3/styles/original/public-s3/images/2020/05/29/NCAA-tournament-bracket-1989.jpg?itok=lR_LOFn7\", \"1988\": \"https://www.ncaa.com/_flysystem/public-s3/styles/original/public-s3/images/2020/05/29/NCAA-tournament-bracket-1988.jpg?itok=CBUY68MV\", \"1987\": \"https://www.ncaa.com/_flysystem/public-s3/styles/original/public-s3/images/2020/05/29/NCAA-tournament-bracket-1987.jpg?itok=zAd1tkmD\", \"1986\": \"https://www.ncaa.com/_flysystem/public-s3/styles/original/public-s3/images/2020/05/29/NCAA-tournament-bracket-1986.jpg?itok=FjR1mdsB\", \"1985\": \"https://www.ncaa.com/_flysystem/public-s3/styles/original/public-s3/images/2020/05/29/NCAA-tournament-bracket-1985.jpg?itok=3fsRFE2Y\", \"1984\": \"https://www.ncaa.com/_flysystem/public-s3/styles/original/public-s3/images/2020/06/02/NCAA-tournament-bracket-1984.jpg?itok=oTz8REz4\", \"1983\": \"https://www.ncaa.com/_flysystem/public-s3/styles/original/public-s3/images/2020/06/02/NCAA-tournament-bracket-1983.jpg?itok=TzurzAwS\", \"1982\": \"https://www.ncaa.com/_flysystem/public-s3/styles/original/public-s3/images/2020/06/02/NCAA-tournament-bracket-1982.jpg?itok=V_XiWvoi\", \"1981\": \"https://www.ncaa.com/_flysystem/public-s3/styles/original/public-s3/images/2020/06/02/NCAA-tournament-bracket-1981.jpg?itok=Vni_Ocgb\", \"1980\": \"https://www.ncaa.com/_flysystem/public-s3/styles/original/public-s3/images/2020/06/02/NCAA-tournament-bracket-1980.jpg?itok=paCYdSeD\", \"1979\": \"https://www.ncaa.com/_flysystem/public-s3/styles/original/public-s3/images/2020/06/02/NCAA-tournament-bracket-1979.jpg?itok=w9OR049n\", \"1978\": \"https://www.ncaa.com/_flysystem/public-s3/styles/original/public-s3/images/2020/06/02/NCAA-tournament-bracket-1978.jpg?itok=5VUtzw3o\", \"1977\": \"https://www.ncaa.com/_flysystem/public-s3/styles/original/public-s3/images/2020/06/02/NCAA-tournament-bracket-1977.jpg?itok=QwPfdDNR\", \"1976\": \"https://www.ncaa.com/_flysystem/public-s3/styles/original/public-s3/images/2020/06/02/NCAA-tournament-bracket-1976.jpg?itok=-ZYhmjDT\", \"1975\": \"https://www.ncaa.com/_flysystem/public-s3/styles/original/public-s3/images/2020/06/03/NCAA-tournament-bracket-1975_0.jpg?itok=2FhMRc0M\", \"1974\": \"https://www.ncaa.com/_flysystem/public-s3/styles/original/public-s3/images/2020/06/03/NCAA-tournament-bracket-1974.jpg?itok=alCJ8-pq\", \"1973\": \"https://www.ncaa.com/_flysystem/public-s3/styles/original/public-s3/images/2020/06/03/NCAA-tournament-bracket-1973.jpg?itok=y6WNeazY\", \"1972\": \"https://www.ncaa.com/_flysystem/public-s3/styles/original/public-s3/images/2020/06/03/NCAA-tournament-bracket-1972.jpg?itok=qN4-A90o\", \"1971\": \"https://www.ncaa.com/_flysystem/public-s3/styles/original/public-s3/images/2020/06/05/NCAA-tournament-bracket-1971.jpg?itok=cdjJ63ja\", \"1970\": \"https://www.ncaa.com/_flysystem/public-s3/styles/original/public-s3/images/2020/06/05/NCAA-tournament-bracket-1970.jpg?itok=W0k0WWf1\", \"1969\": \"https://www.ncaa.com/_flysystem/public-s3/styles/original/public-s3/images/2020/06/05/NCAA-tournament-bracket-1969.jpg?itok=_ZFVagBN\", \"1968\": \"https://www.ncaa.com/_flysystem/public-s3/styles/original/public-s3/images/2020/06/05/NCAA-tournament-bracket-1968.jpg?itok=B9ddlZsL\", \"1967\": \"https://www.ncaa.com/_flysystem/public-s3/styles/original/public-s3/images/2020/06/05/NCAA-tournament-bracket-1967.jpg?itok=4uBJ99MN\", \"1966\": \"https://www.ncaa.com/_flysystem/public-s3/styles/original/public-s3/images/2020/06/05/NCAA-tournament-bracket-1966.jpg?itok=dvE3Gx3-\", \"1965\": \"https://www.ncaa.com/_flysystem/public-s3/styles/original/public-s3/images/2020/06/05/NCAA-tournament-bracket-1965.jpg?itok=TElUMX0I\", \"1964\": \"https://www.ncaa.com/_flysystem/public-s3/styles/original/public-s3/images/2020/06/05/NCAA-tournament-bracket-1964.jpg?itok=p4WjbP0c\", \"1963\": \"https://www.ncaa.com/_flysystem/public-s3/styles/original/public-s3/images/2020/06/05/NCAA-tournament-bracket-1963.jpg?itok=4MjVFVq_\", \"1962\": \"https://www.ncaa.com/_flysystem/public-s3/styles/original/public-s3/images/2020/06/08/NCAA-tournament-bracket-1962.jpg?itok=YLRd_Pgp\", \"1961\": \"https://www.ncaa.com/_flysystem/public-s3/styles/original/public-s3/images/2020/06/08/NCAA-tournament-bracket-1961.jpg?itok=KRIil4Ik\", \"1960\": \"https://www.ncaa.com/_flysystem/public-s3/styles/original/public-s3/images/2020/06/08/NCAA-tournament-bracket-1960.jpg?itok=6v5uKuiU\", \"1959\": \"https://www.ncaa.com/_flysystem/public-s3/styles/original/public-s3/images/2020/06/08/NCAA-tournament-bracket-1959.jpg?itok=gwh93YcA\", \"1958\": \"https://www.ncaa.com/_flysystem/public-s3/styles/original/public-s3/images/2020/06/08/NCAA-tournament-bracket-1958.jpg?itok=r9nc-hu8\", \"1957\": \"https://www.ncaa.com/_flysystem/public-s3/styles/original/public-s3/images/2020/06/08/NCAA-tournament-bracket-1957.jpg?itok=AhPRxtC5\", \"1956\": \"https://www.ncaa.com/_flysystem/public-s3/styles/original/public-s3/images/2020/06/08/NCAA-tournament-bracket-1956.jpg?itok=HoWIME_q\", \"1955\": \"https://www.ncaa.com/_flysystem/public-s3/styles/original/public-s3/images/2020/06/08/NCAA-tournament-bracket-1955.jpg?itok=LSLP922z\", \"1954\": \"https://www.ncaa.com/_flysystem/public-s3/styles/original/public-s3/images/2020/06/08/NCAA-tournament-bracket-1954.jpg?itok=g2ixhL8J\", \"1953\": \"https://www.ncaa.com/_flysystem/public-s3/styles/original/public-s3/images/2020/06/08/NCAA-tournament-bracket-1953.jpg?itok=OL5KoDSq\", \"1952\": \"https://www.ncaa.com/_flysystem/public-s3/styles/original/public-s3/images/2020/06/08/NCAA-tournament-bracket-1952.jpg?itok=DihUNZqu\", \"1951\": \"https://www.ncaa.com/_flysystem/public-s3/styles/original/public-s3/images/2020/06/08/NCAA-tournament-bracket-1951.jpg?itok=lVpRthkx\", \"1950\": \"https://www.ncaa.com/_flysystem/public-s3/styles/original/public-s3/images/2020/06/08/NCAA-tournament-bracket-1950.jpg?itok=JsOi5EbY\", \"1949\": \"https://www.ncaa.com/_flysystem/public-s3/styles/original/public-s3/images/2020/06/08/NCAA-tournament-bracket-1949.jpg?itok=exk_VfUi\", \"1948\": \"https://www.ncaa.com/_flysystem/public-s3/styles/original/public-s3/images/2020/06/08/NCAA-tournament-bracket-1948.jpg?itok=LK6Jh3hW\", \"1947\": \"https://www.ncaa.com/_flysystem/public-s3/styles/original/public-s3/images/2020/06/08/NCAA-tournament-bracket-1947.jpg?itok=8XYrDz9z\", \"1946\": \"https://www.ncaa.com/_flysystem/public-s3/styles/original/public-s3/images/2020/06/08/NCAA-tournament-bracket-1946.jpg?itok=5IRSKmGP\", \"1945\": \"https://www.ncaa.com/_flysystem/public-s3/styles/original/public-s3/images/2020/06/08/NCAA-tournament-bracket-1945.jpg?itok=gakLNC1v\", \"1944\": \"https://www.ncaa.com/_flysystem/public-s3/styles/original/public-s3/images/2020/06/08/NCAA-tournament-bracket-1944.jpg?itok=aYU4gnL_\", \"1943\": \"https://www.ncaa.com/_flysystem/public-s3/styles/original/public-s3/images/2020/06/08/NCAA-tournament-bracket-1943.jpg?itok=VP0PiEfL\", \"1942\": \"https://www.ncaa.com/_flysystem/public-s3/styles/original/public-s3/images/2020/06/08/NCAA-tournament-bracket-1942.jpg?itok=fTvLRXAK\", \"1941\": \"https://www.ncaa.com/_flysystem/public-s3/styles/original/public-s3/images/2020/06/08/NCAA-tournament-bracket-1941.jpg?itok=7U-iNU7y\", \"1940\": \"https://www.ncaa.com/_flysystem/public-s3/styles/original/public-s3/images/2020/06/08/NCAA-tournament-bracket-1940.jpg?itok=RGtGjV1u\", \"1939\": \"https://www.ncaa.com/_flysystem/public-s3/styles/original/public-s3/images/2020/06/08/NCAA-tournament-bracket-1939_0.jpg?itok=NQMnxpMO\"}'"
      ]
     },
     "execution_count": 49,
     "metadata": {},
     "output_type": "execute_result"
    }
   ],
   "source": [
    "# convert to json\n",
    "export_me = json.dumps(img_dict)\n",
    "export_me"
   ]
  },
  {
   "cell_type": "code",
   "execution_count": 50,
   "metadata": {},
   "outputs": [],
   "source": [
    "# export to text file\n",
    "with open('past_brackets.txt', 'w') as file:\n",
    "    file.write(export_me)"
   ]
  },
  {
   "cell_type": "code",
   "execution_count": 46,
   "metadata": {},
   "outputs": [],
   "source": [
    "browser.quit()"
   ]
  }
 ],
 "metadata": {
  "kernelspec": {
   "display_name": "base",
   "language": "python",
   "name": "python3"
  },
  "language_info": {
   "codemirror_mode": {
    "name": "ipython",
    "version": 3
   },
   "file_extension": ".py",
   "mimetype": "text/x-python",
   "name": "python",
   "nbconvert_exporter": "python",
   "pygments_lexer": "ipython3",
   "version": "3.12.4"
  }
 },
 "nbformat": 4,
 "nbformat_minor": 2
}
